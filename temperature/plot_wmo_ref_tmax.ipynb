{
 "cells": [
  {
   "cell_type": "markdown",
   "id": "1e023820-eee5-4d4d-96c4-8c2299d3b89a",
   "metadata": {},
   "source": [
    "## Loading some libraries and setting some variables"
   ]
  },
  {
   "cell_type": "code",
   "execution_count": null,
   "id": "6b7b613d-3060-4dca-97de-a58e9a335840",
   "metadata": {},
   "outputs": [],
   "source": [
    "import os\n",
    "import numpy as np\n",
    "import pandas as pd\n"
   ]
  },
  {
   "cell_type": "code",
   "execution_count": null,
   "id": "6b205eb0-89d8-41fb-9ded-2ad8c09cdda8",
   "metadata": {},
   "outputs": [],
   "source": [
    "import matplotlib.pyplot as plt\n",
    "import seaborn as sns"
   ]
  },
  {
   "cell_type": "code",
   "execution_count": null,
   "id": "dac1f6a1-c909-40ba-ad56-a5abdb26e5b9",
   "metadata": {},
   "outputs": [],
   "source": [
    "data_folder = '../data/belgian_synop/'\n",
    "data_file = 'synop_data_6447.csv'"
   ]
  },
  {
   "cell_type": "markdown",
   "id": "6f3332f7-7be2-483f-9066-a68ff6ea85a1",
   "metadata": {},
   "source": [
    "## Example of loading only the Tmax of Uccle"
   ]
  },
  {
   "cell_type": "markdown",
   "id": "8ddcb3f0-9ba8-4b70-8234-665cf18e9843",
   "metadata": {},
   "source": [
    "First actually we load everything"
   ]
  },
  {
   "cell_type": "code",
   "execution_count": null,
   "id": "88be761e-6a4a-455b-8325-99821d829273",
   "metadata": {},
   "outputs": [],
   "source": [
    "dataset = pd.read_csv(os.path.join(data_folder, data_file))"
   ]
  },
  {
   "cell_type": "code",
   "execution_count": null,
   "id": "b7f7bc9a-51aa-490d-8017-0529e24d564e",
   "metadata": {},
   "outputs": [],
   "source": [
    "dataset"
   ]
  },
  {
   "cell_type": "markdown",
   "id": "f2cf5279-5705-4df4-8647-444658f60a8d",
   "metadata": {},
   "source": [
    "Now only keeping Tmax values"
   ]
  },
  {
   "cell_type": "code",
   "execution_count": null,
   "id": "6537c3f1-0a0a-41e6-bcfc-0933f192bded",
   "metadata": {},
   "outputs": [],
   "source": [
    "var = 'temp_max'"
   ]
  },
  {
   "cell_type": "code",
   "execution_count": null,
   "id": "d4158235-e099-4ea6-93c8-31285e9f6443",
   "metadata": {},
   "outputs": [],
   "source": [
    "uccle_sel_var = dataset[dataset[var].notna()]"
   ]
  },
  {
   "cell_type": "markdown",
   "id": "0f7ce1c9-d6d5-4110-9428-1840c87f1c16",
   "metadata": {},
   "source": [
    "and introducing some time related quantities"
   ]
  },
  {
   "cell_type": "code",
   "execution_count": null,
   "id": "be49983e-a73c-45eb-95c8-14289905198c",
   "metadata": {},
   "outputs": [],
   "source": [
    "uccle_sel_var['timestamp'] = uccle_sel_var['timestamp'].astype('datetime64[ns]')"
   ]
  },
  {
   "cell_type": "code",
   "execution_count": null,
   "id": "6955f4aa-1761-48a3-9e0d-40553e583f56",
   "metadata": {
    "scrolled": true
   },
   "outputs": [],
   "source": [
    "uccle_sel_var['day_of_year'] = uccle_sel_var.timestamp.dt.day_of_year  # will be usefull later"
   ]
  },
  {
   "cell_type": "code",
   "execution_count": null,
   "id": "d1241899-6d3b-428a-bc5a-25ecaab6b75c",
   "metadata": {},
   "outputs": [],
   "source": [
    "uccle_sel_var['year'] = uccle_sel_var.timestamp.dt.year  # will be usefull later"
   ]
  },
  {
   "cell_type": "markdown",
   "id": "fa0c78d1-198f-45a1-8906-cdec5804ad45",
   "metadata": {},
   "source": [
    "and setting the timestamps as index"
   ]
  },
  {
   "cell_type": "code",
   "execution_count": null,
   "id": "1c12b63d-f9a0-4958-8433-f1bfe5f68db9",
   "metadata": {},
   "outputs": [],
   "source": [
    "uccle_sel_var = uccle_sel_var.set_index('timestamp')\n",
    "uccle_sel_var = uccle_sel_var.sort_index()"
   ]
  },
  {
   "cell_type": "code",
   "execution_count": null,
   "id": "ea21783f-90cf-4de9-977e-63abcc15ab32",
   "metadata": {},
   "outputs": [],
   "source": [
    "uccle_sel_var"
   ]
  },
  {
   "cell_type": "markdown",
   "id": "8e993991-c495-4c87-9a42-2bb092aaedac",
   "metadata": {},
   "source": [
    "## Plotting the Tmax"
   ]
  },
  {
   "cell_type": "markdown",
   "id": "dcdcd70c-1855-421c-8697-7e69964b8805",
   "metadata": {},
   "source": [
    "Plotting the current year of Tmax:"
   ]
  },
  {
   "cell_type": "code",
   "execution_count": null,
   "id": "f94b9fdf-2545-4f99-99f0-68d90c400664",
   "metadata": {},
   "outputs": [],
   "source": [
    "uccle_sel_var[var].loc['2025'].plot()\n",
    "plt.xlabel('date')\n",
    "plt.ylabel('Temperature maximale °C');"
   ]
  },
  {
   "cell_type": "markdown",
   "id": "66ee7271-d986-48ea-83ec-7eb349d569c4",
   "metadata": {},
   "source": [
    "Plotting a scatter plot of maximum temperature between 1981 and 2010, and then 1991 and 2020:"
   ]
  },
  {
   "cell_type": "code",
   "execution_count": null,
   "id": "cb055bed-07c1-4e89-b4ea-a5d1c8266fba",
   "metadata": {},
   "outputs": [],
   "source": [
    "sns.scatterplot(uccle_sel_var.loc['1981':'2010'], x='day_of_year', y=var, label='Période 1981-2010')\n",
    "sns.scatterplot(uccle_sel_var.loc['1991':'2020'], x='day_of_year', y=var, label='Période 1991-2020')\n",
    "plt.xlabel(\"jour de l'année\")\n",
    "plt.ylabel('Temperature maximale °C');\n",
    "plt.legend();"
   ]
  },
  {
   "cell_type": "code",
   "execution_count": null,
   "id": "2195af34-2d02-4fff-9c1f-6d7fa603fc18",
   "metadata": {},
   "outputs": [],
   "source": [
    "sns.lineplot(uccle_sel_var.loc['1981':'2010'][[var,'day_of_year']].groupby('day_of_year').mean(), x='day_of_year', y=var, label='Période 1981-2010')\n",
    "sns.lineplot(uccle_sel_var.loc['1991':'2020'][[var,'day_of_year']].groupby('day_of_year').mean(), x='day_of_year', y=var, label='Période 1991-2020')\n",
    "plt.xlabel(\"jour de l'année\")\n",
    "plt.ylabel('Moyenne de la Temperature maximale °C');\n",
    "plt.legend();"
   ]
  },
  {
   "cell_type": "code",
   "execution_count": null,
   "id": "13a36507-ad60-4fe1-a025-3665204b9ded",
   "metadata": {},
   "outputs": [],
   "source": [
    "window_size=16\n",
    "difference_climato = uccle_sel_var.loc['1991':'2020'][[var,'day_of_year']].groupby('day_of_year').mean() - uccle_sel_var.loc['1981':'2010'][[var,'day_of_year']].groupby('day_of_year').mean()\n",
    "sns.lineplot(difference_climato, x='day_of_year', y=var, label='Différence (1991-2020) - (1981-2010)');\n",
    "sns.lineplot(difference_climato.rolling(window_size, center=True).mean(), x='day_of_year', y=var, label=f'Rolling mean ({window_size} days)');\n",
    "plt.xlabel(\"jour de l'année\")\n",
    "plt.ylabel('Moyenne de la Temperature maximale °C');\n",
    "plt.legend();"
   ]
  },
  {
   "cell_type": "code",
   "execution_count": null,
   "id": "f708073f-3078-4166-9580-705003dfbdcb",
   "metadata": {},
   "outputs": [],
   "source": [
    "sns.lineplot(uccle_sel_var.loc['1981':'2010'][[var,'day_of_year']].groupby('day_of_year').max(), x='day_of_year', y=var, label='Période 1981-2010')\n",
    "sns.lineplot(uccle_sel_var.loc['1991':'2020'][[var,'day_of_year']].groupby('day_of_year').max(), x='day_of_year', y=var, label='Période 1991-2020')\n",
    "plt.xlabel(\"jour de l'année\")\n",
    "plt.ylabel('Maximum de la Temperature maximale °C');\n",
    "plt.legend();"
   ]
  },
  {
   "cell_type": "markdown",
   "id": "92422243-a0af-4865-a9dd-3255f7f4edb7",
   "metadata": {},
   "source": [
    "Plotting a scatter plot of maximum temperature between 1981 and 2000, and then 2001 and 2020:"
   ]
  },
  {
   "cell_type": "code",
   "execution_count": null,
   "id": "4e2c6ecb-492c-46bc-9a09-b4ea9b182187",
   "metadata": {},
   "outputs": [],
   "source": [
    "sns.scatterplot(uccle_sel_var.loc['1981':'2000'], x='day_of_year', y=var, label='Période 1981-2000')\n",
    "sns.scatterplot(uccle_sel_var.loc['2001':'2020'], x='day_of_year', y=var, label='Période 2000-2020')\n",
    "plt.xlabel(\"jour de l'année\")\n",
    "plt.ylabel('Temperature maximum °C');\n",
    "plt.legend();"
   ]
  },
  {
   "cell_type": "code",
   "execution_count": null,
   "id": "1f46d078-54d7-4019-bf24-e2bc7ae2b295",
   "metadata": {},
   "outputs": [],
   "source": [
    "sns.lineplot(uccle_sel_var.loc['1981':'2000'][[var,'day_of_year']].groupby('day_of_year').mean(), x='day_of_year', y=var, label='Période 1981-2000')\n",
    "sns.lineplot(uccle_sel_var.loc['2001':'2020'][[var,'day_of_year']].groupby('day_of_year').mean(), x='day_of_year', y=var, label='Période 2000-2020')\n",
    "plt.xlabel(\"jour de l'année\")\n",
    "plt.ylabel('Moyenne de la Temperature maximale °C');\n",
    "plt.legend();"
   ]
  },
  {
   "cell_type": "code",
   "execution_count": null,
   "id": "22ff7fc2-89f0-48be-948a-622b34023690",
   "metadata": {},
   "outputs": [],
   "source": [
    "window_size=16\n",
    "difference_climato = uccle_sel_var.loc['2001':'2020'][[var,'day_of_year']].groupby('day_of_year').mean() - uccle_sel_var.loc['1981':'2000'][[var,'day_of_year']].groupby('day_of_year').mean()\n",
    "sns.lineplot(difference_climato, x='day_of_year', y=var, label='Différence (1991-2020) - (1981-2010)');\n",
    "sns.lineplot(difference_climato.rolling(window_size, center=True).mean(), x='day_of_year', y=var, label=f'Rolling mean ({window_size} days)');\n",
    "plt.xlabel(\"jour de l'année\")\n",
    "plt.ylabel('Moyenne de la Temperature maximale °C');\n",
    "plt.legend();"
   ]
  },
  {
   "cell_type": "code",
   "execution_count": null,
   "id": "480e8142-3f53-4290-a0c8-696969350144",
   "metadata": {},
   "outputs": [],
   "source": [
    "sns.lineplot(uccle_sel_var.loc['1981':'2000'][[var,'day_of_year']].groupby('day_of_year').max(), x='day_of_year', y=var, label='Période 1981-2000')\n",
    "sns.lineplot(uccle_sel_var.loc['2001':'2020'][[var,'day_of_year']].groupby('day_of_year').max(), x='day_of_year', y=var, label='Période 2000-2020')\n",
    "plt.xlabel(\"jour de l'année\")\n",
    "plt.ylabel('Maximum de la Temperature maximale °C');\n",
    "plt.legend();"
   ]
  },
  {
   "cell_type": "code",
   "execution_count": null,
   "id": "1dc74b6f-455e-4454-9ae2-34c3dc73601f",
   "metadata": {},
   "outputs": [],
   "source": [
    "sns.lineplot(uccle_sel_var.loc['1981':'2000'][[var,'day_of_year']].groupby('day_of_year').min(), x='day_of_year', y=var, label='Période 1981-2000')\n",
    "sns.lineplot(uccle_sel_var.loc['2001':'2020'][[var,'day_of_year']].groupby('day_of_year').min(), x='day_of_year', y=var, label='Période 2000-2020')\n",
    "plt.xlabel(\"jour de l'année\")\n",
    "plt.ylabel('Minimum de la Temperature maximale °C');\n",
    "plt.legend();"
   ]
  },
  {
   "cell_type": "markdown",
   "id": "d9d9552e-de4b-40a3-9eaa-ec5739cfb63c",
   "metadata": {},
   "source": [
    "Plotting year to year curve:"
   ]
  },
  {
   "cell_type": "code",
   "execution_count": null,
   "id": "f1e1bec6-f522-4a94-813b-a8d499dc5ec6",
   "metadata": {},
   "outputs": [],
   "source": [
    "sns.set_theme(style=\"dark\")\n",
    "\n",
    "df = uccle_sel_var[[var,'day_of_year','year']]\n",
    "g = sns.relplot(\n",
    "    data=df,\n",
    "    x=\"day_of_year\", y=var, col=\"year\", hue=\"year\",\n",
    "    kind=\"line\", palette=\"autumn_r\", linewidth=4, zorder=5,\n",
    "    col_wrap=3, height=2, aspect=1.5, legend=False,\n",
    ")\n",
    "\n",
    "for year, ax in g.axes_dict.items():\n",
    "\n",
    "    # Add the title as an annotation within the plot\n",
    "    ax.text(.8, .85, year, transform=ax.transAxes, fontweight=\"bold\")\n",
    "\n",
    "    # Plot every year's time series in the background\n",
    "    sns.lineplot(\n",
    "        data=df, x=\"day_of_year\", y=var, units=\"year\",\n",
    "        estimator=None, color=\".7\", linewidth=1, ax=ax,\n",
    "    )\n",
    "    ax.set_xlim(0.,365.)\n",
    "\n",
    "# ax.set_xticks(ax.get_xticks()[::2])\n",
    "g.set_titles(\"\")\n",
    "g.set_axis_labels(\"jour de l'année\", \"Temp. max. °C\")\n",
    "g.tight_layout()\n",
    "plt.savefig('tmax_uccle.png', dpi=300)"
   ]
  },
  {
   "cell_type": "markdown",
   "id": "c7e4dce0-7238-4bc6-b071-7dd660155a96",
   "metadata": {},
   "source": [
    "Plotting the timeseries on the same plot:"
   ]
  },
  {
   "cell_type": "code",
   "execution_count": null,
   "id": "7a307c61-6d27-4b35-8cef-2dcf15c3f5ba",
   "metadata": {},
   "outputs": [],
   "source": [
    "cmap = plt.get_cmap('autumn_r')\n",
    "plt.figure(figsize=(10,8))\n",
    "ax = plt.subplot()\n",
    "for i, year in enumerate(range(1981, 2010)):\n",
    "    if i==0:\n",
    "        sns.lineplot(data=uccle_sel_var.loc[str(year)], x='day_of_year', y=var, ax=ax, color='tab:gray', label='1981-2010')  #color=cmap((year-1981)/(2025.-1981))) label=str(year)\n",
    "    else:\n",
    "        sns.lineplot(data=uccle_sel_var.loc[str(year)], x='day_of_year', y=var, ax=ax, color='tab:gray')  #color=cmap((year-1981)/(2025.-1981))) label=str(year)\n",
    "\n",
    "for year in range(2020, 2026):\n",
    "    print()\n",
    "    sns.lineplot(data=uccle_sel_var.loc[str(year)], x='day_of_year', y=var, color=cmap((year-2019)/(2025.-2019)), ax=ax, label=str(year))\n",
    "\n",
    "\n",
    "ax.set_xlabel(\"jour de l'année\")\n",
    "ax.set_ylabel(\"Temp. max. °C\")\n",
    "ax.set_xlim(0,365.)"
   ]
  },
  {
   "cell_type": "code",
   "execution_count": null,
   "id": "02260c5f-065a-4479-912b-986eeccafdbb",
   "metadata": {},
   "outputs": [],
   "source": [
    "cmap = plt.get_cmap('autumn_r')\n",
    "plt.figure(figsize=(10,8))\n",
    "ax = plt.subplot()\n",
    "for i, year in enumerate(range(1981, 2010)):\n",
    "    if i==0:\n",
    "        sns.lineplot(data=uccle_sel_var.loc[str(year)], x='day_of_year', y=var, ax=ax, color='tab:gray', label='1981-2010')  #color=cmap((year-1981)/(2025.-1981))) label=str(year)\n",
    "    else:\n",
    "        sns.lineplot(data=uccle_sel_var.loc[str(year)], x='day_of_year', y=var, ax=ax, color='tab:gray')  #color=cmap((year-1981)/(2025.-1981))) label=str(year)\n",
    "\n",
    "for year in range(2020, 2026):\n",
    "    print()\n",
    "    sns.lineplot(data=uccle_sel_var.loc[str(year)], x='day_of_year', y=var, color=cmap((year-2019)/(2025.-2019)), ax=ax, label=str(year))\n",
    "\n",
    "\n",
    "ax.set_xlabel(\"jour de l'année\")\n",
    "ax.set_ylabel(\"Temp. max. °C\")\n",
    "\n",
    "ax.set_xlim(165,240)"
   ]
  },
  {
   "cell_type": "code",
   "execution_count": null,
   "id": "4d6efe40-40fd-438b-a77a-0309bb07e69a",
   "metadata": {},
   "outputs": [],
   "source": []
  },
  {
   "cell_type": "code",
   "execution_count": null,
   "id": "1b4bc8cf-59a6-4e01-a032-cebf9dc90ffd",
   "metadata": {},
   "outputs": [],
   "source": []
  }
 ],
 "metadata": {
  "kernelspec": {
   "display_name": "Python 3 (ipykernel)",
   "language": "python",
   "name": "python3"
  },
  "language_info": {
   "codemirror_mode": {
    "name": "ipython",
    "version": 3
   },
   "file_extension": ".py",
   "mimetype": "text/x-python",
   "name": "python",
   "nbconvert_exporter": "python",
   "pygments_lexer": "ipython3",
   "version": "3.12.4"
  }
 },
 "nbformat": 4,
 "nbformat_minor": 5
}
