{
 "cells": [
  {
   "cell_type": "markdown",
   "id": "1e023820-eee5-4d4d-96c4-8c2299d3b89a",
   "metadata": {},
   "source": [
    "## Loading some libraries and setting some variables"
   ]
  },
  {
   "cell_type": "code",
   "execution_count": null,
   "id": "6b7b613d-3060-4dca-97de-a58e9a335840",
   "metadata": {},
   "outputs": [],
   "source": [
    "import os\n",
    "import numpy as np\n",
    "import pandas as pd\n"
   ]
  },
  {
   "cell_type": "code",
   "execution_count": null,
   "id": "6b205eb0-89d8-41fb-9ded-2ad8c09cdda8",
   "metadata": {},
   "outputs": [],
   "source": [
    "import matplotlib.pyplot as plt\n",
    "import seaborn as sns"
   ]
  },
  {
   "cell_type": "code",
   "execution_count": null,
   "id": "dac1f6a1-c909-40ba-ad56-a5abdb26e5b9",
   "metadata": {},
   "outputs": [],
   "source": [
    "data_folder = './data/belgian_synop/'\n",
    "data_file = 'synop_data.csv'"
   ]
  },
  {
   "cell_type": "markdown",
   "id": "6f3332f7-7be2-483f-9066-a68ff6ea85a1",
   "metadata": {},
   "source": [
    "## Example of loading only the Tmax of Uccle"
   ]
  },
  {
   "cell_type": "markdown",
   "id": "8ddcb3f0-9ba8-4b70-8234-665cf18e9843",
   "metadata": {},
   "source": [
    "First actually we load everything"
   ]
  },
  {
   "cell_type": "code",
   "execution_count": null,
   "id": "d3ea0929-98eb-47be-9d66-e61bc9626b6e",
   "metadata": {},
   "outputs": [],
   "source": [
    "station_id = 6447 # Uccle station id"
   ]
  },
  {
   "cell_type": "code",
   "execution_count": null,
   "id": "88be761e-6a4a-455b-8325-99821d829273",
   "metadata": {},
   "outputs": [],
   "source": [
    "dataset = pd.read_csv(os.path.join(data_folder, data_file))"
   ]
  },
  {
   "cell_type": "code",
   "execution_count": null,
   "id": "b7f7bc9a-51aa-490d-8017-0529e24d564e",
   "metadata": {},
   "outputs": [],
   "source": [
    "dataset"
   ]
  },
  {
   "cell_type": "markdown",
   "id": "f10daa53-5b8e-4841-ab85-2982019bd383",
   "metadata": {},
   "source": [
    "Selecting only the Uccle entries"
   ]
  },
  {
   "cell_type": "code",
   "execution_count": null,
   "id": "cb804ca8-12b1-4ec7-a1a2-a7349c0879cd",
   "metadata": {},
   "outputs": [],
   "source": [
    "uccle_df = dataset.loc[dataset['code'] == station_id]"
   ]
  },
  {
   "cell_type": "code",
   "execution_count": null,
   "id": "ac4343ac-b281-4e1e-a210-c695208552fe",
   "metadata": {},
   "outputs": [],
   "source": [
    "uccle_df"
   ]
  },
  {
   "cell_type": "markdown",
   "id": "0dc2c0e7-d758-4946-a552-a8b5b50f767b",
   "metadata": {},
   "source": [
    "and dropping columns not needed"
   ]
  },
  {
   "cell_type": "code",
   "execution_count": null,
   "id": "2d6c6adf-9106-4760-acb9-1af8fd7243e6",
   "metadata": {},
   "outputs": [],
   "source": [
    "uccle_df = uccle_df.drop(['FID', 'the_geom'], axis=1)"
   ]
  },
  {
   "cell_type": "code",
   "execution_count": null,
   "id": "40e2913c-03f5-40fc-8af0-f032d09c9e30",
   "metadata": {},
   "outputs": [],
   "source": [
    "uccle_df"
   ]
  },
  {
   "cell_type": "markdown",
   "id": "f2cf5279-5705-4df4-8647-444658f60a8d",
   "metadata": {},
   "source": [
    "Now only keeping Tmax values"
   ]
  },
  {
   "cell_type": "code",
   "execution_count": null,
   "id": "d4158235-e099-4ea6-93c8-31285e9f6443",
   "metadata": {},
   "outputs": [],
   "source": [
    "uccle_df_tmax = uccle_df[uccle_df['temp_max'].notna()]"
   ]
  },
  {
   "cell_type": "code",
   "execution_count": null,
   "id": "ea21783f-90cf-4de9-977e-63abcc15ab32",
   "metadata": {},
   "outputs": [],
   "source": [
    "uccle_df_tmax"
   ]
  },
  {
   "cell_type": "markdown",
   "id": "93bc537c-9f00-4867-9283-565dd2654ca0",
   "metadata": {},
   "source": [
    "and setting the timestamps as index"
   ]
  },
  {
   "cell_type": "code",
   "execution_count": null,
   "id": "8cbe34d0-9725-4c62-b8ca-f0f8fc388481",
   "metadata": {
    "scrolled": true
   },
   "outputs": [],
   "source": [
    "uccle_df_tmax['timestamp'] = uccle_df_tmax['timestamp'].astype('datetime64[ns]')"
   ]
  },
  {
   "cell_type": "code",
   "execution_count": null,
   "id": "b0ac2760-9e3a-4bdb-9387-6bdb059036ad",
   "metadata": {},
   "outputs": [],
   "source": [
    "uccle_df_tmax['day_of_year'] = uccle_df_tmax.timestamp.dt.day_of_year  # will be usefull later"
   ]
  },
  {
   "cell_type": "code",
   "execution_count": null,
   "id": "9bd21ab3-8947-4190-b0f7-d61597e20444",
   "metadata": {},
   "outputs": [],
   "source": [
    "uccle_df_tmax['year'] = uccle_df_tmax.timestamp.dt.year  # will be usefull later"
   ]
  },
  {
   "cell_type": "code",
   "execution_count": null,
   "id": "4e97a156-49b8-4611-9a21-bc84abf7d82c",
   "metadata": {},
   "outputs": [],
   "source": [
    "uccle_df_tmax = uccle_df_tmax.set_index('timestamp')"
   ]
  },
  {
   "cell_type": "code",
   "execution_count": null,
   "id": "74f721b3-5c93-4864-8b67-63a4bff39672",
   "metadata": {},
   "outputs": [],
   "source": [
    "uccle_df_tmax = uccle_df_tmax.sort_index()"
   ]
  },
  {
   "cell_type": "code",
   "execution_count": null,
   "id": "4df46d88-6c81-4d9d-a812-ff84a0bcdf18",
   "metadata": {},
   "outputs": [],
   "source": [
    "uccle_df_tmax"
   ]
  },
  {
   "cell_type": "markdown",
   "id": "8e993991-c495-4c87-9a42-2bb092aaedac",
   "metadata": {},
   "source": [
    "## Plotting the results"
   ]
  },
  {
   "cell_type": "markdown",
   "id": "dcdcd70c-1855-421c-8697-7e69964b8805",
   "metadata": {},
   "source": [
    "Plotting the current year of Tmax:"
   ]
  },
  {
   "cell_type": "code",
   "execution_count": null,
   "id": "f94b9fdf-2545-4f99-99f0-68d90c400664",
   "metadata": {},
   "outputs": [],
   "source": [
    "uccle_df_tmax['temp_max'].loc['2025'].plot()\n",
    "plt.xlabel('date')\n",
    "plt.ylabel('Temperature maximum °C');"
   ]
  },
  {
   "cell_type": "markdown",
   "id": "66ee7271-d986-48ea-83ec-7eb349d569c4",
   "metadata": {},
   "source": [
    "Plotting a scatter plot of maximum temperature between 1981 and 2010, and then 1991 and 2020:"
   ]
  },
  {
   "cell_type": "code",
   "execution_count": null,
   "id": "cb055bed-07c1-4e89-b4ea-a5d1c8266fba",
   "metadata": {},
   "outputs": [],
   "source": [
    "sns.scatterplot(uccle_df_tmax.loc['1981':'2010'], x='day_of_year', y='temp_max', label='Période 1981-2010')\n",
    "sns.scatterplot(uccle_df_tmax.loc['1991':'2020'], x='day_of_year', y='temp_max', label='Période 1991-2020')\n",
    "plt.xlabel(\"jour de l'année\")\n",
    "plt.ylabel('Temperature maximum °C');\n",
    "plt.legend();"
   ]
  },
  {
   "cell_type": "code",
   "execution_count": null,
   "id": "2195af34-2d02-4fff-9c1f-6d7fa603fc18",
   "metadata": {},
   "outputs": [],
   "source": [
    "sns.lineplot(uccle_df_tmax.loc['1981':'2010'][['temp_max','day_of_year']].groupby('day_of_year').mean(), x='day_of_year', y='temp_max', label='Période 1981-2010')\n",
    "sns.lineplot(uccle_df_tmax.loc['1991':'2020'][['temp_max','day_of_year']].groupby('day_of_year').mean(), x='day_of_year', y='temp_max', label='Période 1991-2020')\n",
    "plt.xlabel(\"jour de l'année\")\n",
    "plt.ylabel('Temperature maximum °C');\n",
    "plt.legend();"
   ]
  },
  {
   "cell_type": "code",
   "execution_count": null,
   "id": "13a36507-ad60-4fe1-a025-3665204b9ded",
   "metadata": {},
   "outputs": [],
   "source": [
    "window_size=16\n",
    "difference_climato = uccle_df_tmax.loc['1991':'2020'][['temp_max','day_of_year']].groupby('day_of_year').mean() - uccle_df_tmax.loc['1981':'2010'][['temp_max','day_of_year']].groupby('day_of_year').mean()\n",
    "sns.lineplot(difference_climato, x='day_of_year', y='temp_max', label='Différence (1991-2020) - (1981-2010)');\n",
    "sns.lineplot(difference_climato.rolling(window_size, center=True).mean(), x='day_of_year', y='temp_max', label=f'Rolling mean ({window_size} days)');\n",
    "plt.xlabel(\"jour de l'année\")\n",
    "plt.ylabel('Temperature maximum °C');\n",
    "plt.legend();"
   ]
  },
  {
   "cell_type": "code",
   "execution_count": null,
   "id": "f708073f-3078-4166-9580-705003dfbdcb",
   "metadata": {},
   "outputs": [],
   "source": [
    "sns.lineplot(uccle_df_tmax.loc['1981':'2010'][['temp_max','day_of_year']].groupby('day_of_year').max(), x='day_of_year', y='temp_max', label='Période 1981-2010')\n",
    "sns.lineplot(uccle_df_tmax.loc['1991':'2020'][['temp_max','day_of_year']].groupby('day_of_year').max(), x='day_of_year', y='temp_max', label='Période 1991-2020')\n",
    "plt.xlabel(\"jour de l'année\")\n",
    "plt.ylabel('Temperature maximum °C');\n",
    "plt.legend();"
   ]
  },
  {
   "cell_type": "markdown",
   "id": "92422243-a0af-4865-a9dd-3255f7f4edb7",
   "metadata": {},
   "source": [
    "Plotting a scatter plot of maximum temperature between 1981 and 2000, and then 2001 and 2020:"
   ]
  },
  {
   "cell_type": "code",
   "execution_count": null,
   "id": "4e2c6ecb-492c-46bc-9a09-b4ea9b182187",
   "metadata": {},
   "outputs": [],
   "source": [
    "sns.scatterplot(uccle_df_tmax.loc['1981':'2000'], x='day_of_year', y='temp_max', label='Période 1981-2000')\n",
    "sns.scatterplot(uccle_df_tmax.loc['2001':'2020'], x='day_of_year', y='temp_max', label='Période 2000-2020')\n",
    "plt.xlabel(\"jour de l'année\")\n",
    "plt.ylabel('Temperature maximum °C');\n",
    "plt.legend();"
   ]
  },
  {
   "cell_type": "code",
   "execution_count": null,
   "id": "1f46d078-54d7-4019-bf24-e2bc7ae2b295",
   "metadata": {},
   "outputs": [],
   "source": [
    "sns.lineplot(uccle_df_tmax.loc['1981':'2000'][['temp_max','day_of_year']].groupby('day_of_year').mean(), x='day_of_year', y='temp_max', label='Période 1981-2000')\n",
    "sns.lineplot(uccle_df_tmax.loc['2001':'2020'][['temp_max','day_of_year']].groupby('day_of_year').mean(), x='day_of_year', y='temp_max', label='Période 2000-2020')\n",
    "plt.xlabel(\"jour de l'année\")\n",
    "plt.ylabel('Temperature maximum °C');\n",
    "plt.legend();"
   ]
  },
  {
   "cell_type": "code",
   "execution_count": null,
   "id": "22ff7fc2-89f0-48be-948a-622b34023690",
   "metadata": {},
   "outputs": [],
   "source": [
    "window_size=16\n",
    "difference_climato = uccle_df_tmax.loc['2001':'2020'][['temp_max','day_of_year']].groupby('day_of_year').mean() - uccle_df_tmax.loc['1981':'2000'][['temp_max','day_of_year']].groupby('day_of_year').mean()\n",
    "sns.lineplot(difference_climato, x='day_of_year', y='temp_max', label='Différence (1991-2020) - (1981-2010)');\n",
    "sns.lineplot(difference_climato.rolling(window_size, center=True).mean(), x='day_of_year', y='temp_max', label=f'Rolling mean ({window_size} days)');\n",
    "plt.xlabel(\"jour de l'année\")\n",
    "plt.ylabel('Temperature maximum °C');\n",
    "plt.legend();"
   ]
  },
  {
   "cell_type": "code",
   "execution_count": null,
   "id": "480e8142-3f53-4290-a0c8-696969350144",
   "metadata": {},
   "outputs": [],
   "source": [
    "sns.lineplot(uccle_df_tmax.loc['1981':'2000'][['temp_max','day_of_year']].groupby('day_of_year').max(), x='day_of_year', y='temp_max', label='Période 1981-2000')\n",
    "sns.lineplot(uccle_df_tmax.loc['2001':'2020'][['temp_max','day_of_year']].groupby('day_of_year').max(), x='day_of_year', y='temp_max', label='Période 2000-2020')\n",
    "plt.xlabel(\"jour de l'année\")\n",
    "plt.ylabel('Temperature maximum °C');\n",
    "plt.legend();"
   ]
  },
  {
   "cell_type": "markdown",
   "id": "d9d9552e-de4b-40a3-9eaa-ec5739cfb63c",
   "metadata": {},
   "source": [
    "Plotting year to year curve:"
   ]
  },
  {
   "cell_type": "code",
   "execution_count": null,
   "id": "f46de458-9ced-4de7-bb92-84632500a656",
   "metadata": {},
   "outputs": [],
   "source": [
    "sns.set_theme(style=\"dark\")\n",
    "\n",
    "df = uccle_df_tmax.loc['1981':'2001'][['temp_max','day_of_year','year']]\n",
    "g = sns.relplot(\n",
    "    data=df,\n",
    "    x=\"day_of_year\", y=\"temp_max\", col=\"year\", hue=\"year\",\n",
    "    kind=\"line\", palette=\"autumn_r\", linewidth=4, zorder=5,\n",
    "    col_wrap=3, height=2, aspect=1.5, legend=False,\n",
    ")\n",
    "\n",
    "for year, ax in g.axes_dict.items():\n",
    "\n",
    "    # Add the title as an annotation within the plot\n",
    "    ax.text(.8, .85, year, transform=ax.transAxes, fontweight=\"bold\")\n",
    "\n",
    "    # Plot every year's time series in the background\n",
    "    sns.lineplot(\n",
    "        data=df, x=\"day_of_year\", y=\"temp_max\", units=\"year\",\n",
    "        estimator=None, color=\".7\", linewidth=1, ax=ax,\n",
    "    )\n",
    "    ax.set_xlim(0.,365.)\n",
    "\n",
    "# ax.set_xticks(ax.get_xticks()[::2])\n",
    "g.set_titles(\"\")\n",
    "g.set_axis_labels(\"jour de l'année\", \"Temp. max. °C\")\n",
    "g.tight_layout()"
   ]
  },
  {
   "cell_type": "code",
   "execution_count": null,
   "id": "477f754a-505e-46c9-aeec-554692080657",
   "metadata": {},
   "outputs": [],
   "source": [
    "sns.set_theme(style=\"dark\")\n",
    "\n",
    "df = uccle_df_tmax.loc['2002':'2020'][['temp_max','day_of_year','year']]\n",
    "g = sns.relplot(\n",
    "    data=df,\n",
    "    x=\"day_of_year\", y=\"temp_max\", col=\"year\", hue=\"year\",\n",
    "    kind=\"line\", palette=\"autumn_r\", linewidth=4, zorder=5,\n",
    "    col_wrap=3, height=2, aspect=1.5, legend=False,\n",
    ")\n",
    "\n",
    "for year, ax in g.axes_dict.items():\n",
    "\n",
    "    # Add the title as an annotation within the plot\n",
    "    ax.text(.8, .85, year, transform=ax.transAxes, fontweight=\"bold\")\n",
    "\n",
    "    # Plot every year's time series in the background\n",
    "    sns.lineplot(\n",
    "        data=df, x=\"day_of_year\", y=\"temp_max\", units=\"year\",\n",
    "        estimator=None, color=\".7\", linewidth=1, ax=ax,\n",
    "    )\n",
    "    ax.set_xlim(0.,365.)\n",
    "\n",
    "# ax.set_xticks(ax.get_xticks()[::2])\n",
    "g.set_titles(\"\")\n",
    "g.set_axis_labels(\"jour de l'année\", \"Temp. max. °C\")\n",
    "g.tight_layout()"
   ]
  },
  {
   "cell_type": "code",
   "execution_count": null,
   "id": "f1e1bec6-f522-4a94-813b-a8d499dc5ec6",
   "metadata": {},
   "outputs": [],
   "source": [
    "sns.set_theme(style=\"dark\")\n",
    "\n",
    "df = uccle_df_tmax[['temp_max','day_of_year','year']]\n",
    "g = sns.relplot(\n",
    "    data=df,\n",
    "    x=\"day_of_year\", y=\"temp_max\", col=\"year\", hue=\"year\",\n",
    "    kind=\"line\", palette=\"autumn_r\", linewidth=4, zorder=5,\n",
    "    col_wrap=3, height=2, aspect=1.5, legend=False,\n",
    ")\n",
    "\n",
    "for year, ax in g.axes_dict.items():\n",
    "\n",
    "    # Add the title as an annotation within the plot\n",
    "    ax.text(.8, .85, year, transform=ax.transAxes, fontweight=\"bold\")\n",
    "\n",
    "    # Plot every year's time series in the background\n",
    "    sns.lineplot(\n",
    "        data=df, x=\"day_of_year\", y=\"temp_max\", units=\"year\",\n",
    "        estimator=None, color=\".7\", linewidth=1, ax=ax,\n",
    "    )\n",
    "    ax.set_xlim(0.,365.)\n",
    "\n",
    "# ax.set_xticks(ax.get_xticks()[::2])\n",
    "g.set_titles(\"\")\n",
    "g.set_axis_labels(\"jour de l'année\", \"Temp. max. °C\")\n",
    "g.tight_layout()"
   ]
  },
  {
   "cell_type": "code",
   "execution_count": null,
   "id": "2768bf10-b6de-44bb-8662-8843f1cb1ef6",
   "metadata": {},
   "outputs": [],
   "source": []
  }
 ],
 "metadata": {
  "kernelspec": {
   "display_name": "Python 3 (ipykernel)",
   "language": "python",
   "name": "python3"
  },
  "language_info": {
   "codemirror_mode": {
    "name": "ipython",
    "version": 3
   },
   "file_extension": ".py",
   "mimetype": "text/x-python",
   "name": "python",
   "nbconvert_exporter": "python",
   "pygments_lexer": "ipython3",
   "version": "3.12.4"
  }
 },
 "nbformat": 4,
 "nbformat_minor": 5
}
